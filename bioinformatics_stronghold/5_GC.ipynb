{
 "cells": [
  {
   "cell_type": "markdown",
   "metadata": {},
   "source": [
    "# Computing GC Content\n",
    "\n",
    "[Problem statement](http://rosalind.info/problems/gc/)"
   ]
  },
  {
   "cell_type": "markdown",
   "metadata": {},
   "source": [
    "## Solution"
   ]
  },
  {
   "cell_type": "code",
   "execution_count": 9,
   "metadata": {},
   "outputs": [
    {
     "name": "stdout",
     "output_type": "stream",
     "text": [
      ">Rosalind_6404\n",
      "CCTGCGGAAGATCGGCACTAGAATAGCCAGAACCGTTTCTCTGAGGCTTCCGGCCTTCCC\n",
      "TCCCACTAATAATTCTGAGG\n",
      ">Rosalind_5959\n",
      "CCATCGGTAGCGCATCCTTAGTCCAATTAAGTCCCTATCCAGGCGCTCCGCCGAAGGTCT\n",
      "ATATCCATTTGTCAGCAGACACGC\n",
      ">Rosalind_0808\n",
      "CCACCCTCGTGGTATGGCTAGGCATTCAGGAACCGGAGAACGCTTCAGACCAGCCCGGAC\n",
      "TGGGAACCTGCGGGCAGTAGGTGGAAT\n"
     ]
    }
   ],
   "source": [
    "fasta = open('data/5_GC_fasta.txt', 'r+').read()\n",
    "print(fasta)"
   ]
  },
  {
   "cell_type": "code",
   "execution_count": 22,
   "metadata": {},
   "outputs": [
    {
     "name": "stdout",
     "output_type": "stream",
     "text": [
      "['Rosalind_6404', 'Rosalind_5959', 'Rosalind_0808']\n",
      "['CTGCGGAAGATCGGCACTAGAATAGCCAGAACCGTTTCTCTGAGGCTTCCGGCCTTCCCTCCCACTAATAATTCTGAG', 'CATCGGTAGCGCATCCTTAGTCCAATTAAGTCCCTATCCAGGCGCTCCGCCGAAGGTCTATATCCATTTGTCAGCAGACACG', 'CACCCTCGTGGTATGGCTAGGCATTCAGGAACCGGAGAACGCTTCAGACCAGCCCGGACTGGGAACCTGCGGGCAGTAGGTGG']\n"
     ]
    }
   ],
   "source": [
    "seq_ids = []\n",
    "sequences = []\n",
    "for index, char in enumerate(fasta):\n",
    "    if char == '>':\n",
    "        seq_ids.append(fasta[index+1:fasta.find('\\n', index)])\n",
    "        sequences.append(fasta[fasta.find('\\n', index) + 2: fasta.find('>',fasta.find('\\n', index))][:-2])\n",
    "\n",
    "sequences = [seq.replace('\\n', '') for seq in sequences]\n",
    "print(seq_ids)\n",
    "print(sequences)"
   ]
  },
  {
   "cell_type": "code",
   "execution_count": 25,
   "metadata": {},
   "outputs": [],
   "source": [
    "GC_content = [(seq.count('G') + seq.count('C')) / len(seq) for seq in sequences]"
   ]
  },
  {
   "cell_type": "code",
   "execution_count": 26,
   "metadata": {},
   "outputs": [
    {
     "name": "stdout",
     "output_type": "stream",
     "text": [
      "Rosalind_0808\n",
      "0.6265060240963856\n"
     ]
    }
   ],
   "source": [
    "print(seq_ids[GC_content.index(max(GC_content))])\n",
    "print(max(GC_content))"
   ]
  }
 ],
 "metadata": {
  "kernelspec": {
   "display_name": "Python 3",
   "language": "python",
   "name": "python3"
  },
  "language_info": {
   "codemirror_mode": {
    "name": "ipython",
    "version": 3
   },
   "file_extension": ".py",
   "mimetype": "text/x-python",
   "name": "python",
   "nbconvert_exporter": "python",
   "pygments_lexer": "ipython3",
   "version": "3.6.4"
  }
 },
 "nbformat": 4,
 "nbformat_minor": 2
}
